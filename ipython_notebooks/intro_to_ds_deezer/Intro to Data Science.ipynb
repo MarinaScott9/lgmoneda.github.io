{
 "cells": [
  {
   "cell_type": "markdown",
   "metadata": {},
   "source": [
    "# Introduction to Data Science\n",
    "\n",
    "1. Exploratory Data Analysis\n",
    "2. Preprocessing\n",
    "3. Feature Engineering\n",
    "4. Modeling\n",
    "    1. Logistic Regression\n",
    "    2. Decision Tree\n",
    "5. Validation\n",
    "6. Add more data\n",
    "\n",
    "### Exploratory Data Analysis (EDA)\n",
    "\n",
    "**Purpose**: Check data quality and find interesting traces about the data and the problem you would like to solve.\n",
    "\n",
    "**How to do it**: Generating descriptive statistics and checking the data distribution.\n"
   ]
  },
  {
   "cell_type": "code",
   "execution_count": 3,
   "metadata": {
    "collapsed": true
   },
   "outputs": [],
   "source": [
    "### Import the libraries\n",
    "import pandas as pd\n",
    "import numpy as np\n",
    "import matplotlib.pyplot as plt\n",
    "import seaborn as sns\n",
    "\n",
    "### Boring warnings\n",
    "import warnings\n",
    "warnings.filterwarnings(\"ignore\")"
   ]
  },
  {
   "cell_type": "code",
   "execution_count": 4,
   "metadata": {},
   "outputs": [
    {
     "name": "stdout",
     "output_type": "stream",
     "text": [
      "We are working with 1212039 data points and 15 columns\n"
     ]
    }
   ],
   "source": [
    "### Import the data\n",
    "train = pd.read_csv(\"../data/train.csv\", index_col=0)\n",
    "test = pd.read_csv(\"../data/test.csv\", index_col = 0)\n",
    "\n",
    "### Basic information about the data\n",
    "print(\"We are working with {} data points and {} columns\".format(train.shape[0], train.shape[1]))"
   ]
  },
  {
   "cell_type": "code",
   "execution_count": 5,
   "metadata": {},
   "outputs": [
    {
     "name": "stdout",
     "output_type": "stream",
     "text": [
      "The columns are: ['genre_id' 'ts_listen' 'media_id' 'album_id' 'context_type' 'release_date'\n",
      " 'platform_name' 'platform_family' 'media_duration' 'listen_type'\n",
      " 'user_gender' 'user_id' 'artist_id' 'user_age' 'is_listened']\n"
     ]
    }
   ],
   "source": [
    "print(\"The columns are: {}\".format(train.columns.values))"
   ]
  },
  {
   "cell_type": "markdown",
   "metadata": {},
   "source": [
    "Checking the data's face:"
   ]
  },
  {
   "cell_type": "code",
   "execution_count": 6,
   "metadata": {},
   "outputs": [
    {
     "data": {
      "text/html": [
       "<div>\n",
       "<style>\n",
       "    .dataframe thead tr:only-child th {\n",
       "        text-align: right;\n",
       "    }\n",
       "\n",
       "    .dataframe thead th {\n",
       "        text-align: left;\n",
       "    }\n",
       "\n",
       "    .dataframe tbody tr th {\n",
       "        vertical-align: top;\n",
       "    }\n",
       "</style>\n",
       "<table border=\"1\" class=\"dataframe\">\n",
       "  <thead>\n",
       "    <tr style=\"text-align: right;\">\n",
       "      <th></th>\n",
       "      <th>genre_id</th>\n",
       "      <th>ts_listen</th>\n",
       "      <th>media_id</th>\n",
       "      <th>album_id</th>\n",
       "      <th>context_type</th>\n",
       "      <th>release_date</th>\n",
       "      <th>platform_name</th>\n",
       "      <th>platform_family</th>\n",
       "      <th>media_duration</th>\n",
       "      <th>listen_type</th>\n",
       "      <th>user_gender</th>\n",
       "      <th>user_id</th>\n",
       "      <th>artist_id</th>\n",
       "      <th>user_age</th>\n",
       "      <th>is_listened</th>\n",
       "    </tr>\n",
       "  </thead>\n",
       "  <tbody>\n",
       "    <tr>\n",
       "      <th>4</th>\n",
       "      <td>7</td>\n",
       "      <td>1478368974</td>\n",
       "      <td>542335</td>\n",
       "      <td>71718</td>\n",
       "      <td>0</td>\n",
       "      <td>20080215</td>\n",
       "      <td>0</td>\n",
       "      <td>0</td>\n",
       "      <td>150</td>\n",
       "      <td>0</td>\n",
       "      <td>1</td>\n",
       "      <td>1812</td>\n",
       "      <td>2939</td>\n",
       "      <td>24</td>\n",
       "      <td>1</td>\n",
       "    </tr>\n",
       "    <tr>\n",
       "      <th>5</th>\n",
       "      <td>7</td>\n",
       "      <td>1478382544</td>\n",
       "      <td>542335</td>\n",
       "      <td>71718</td>\n",
       "      <td>0</td>\n",
       "      <td>20080215</td>\n",
       "      <td>0</td>\n",
       "      <td>0</td>\n",
       "      <td>150</td>\n",
       "      <td>0</td>\n",
       "      <td>1</td>\n",
       "      <td>1812</td>\n",
       "      <td>2939</td>\n",
       "      <td>24</td>\n",
       "      <td>1</td>\n",
       "    </tr>\n",
       "    <tr>\n",
       "      <th>6</th>\n",
       "      <td>7</td>\n",
       "      <td>1478338409</td>\n",
       "      <td>542335</td>\n",
       "      <td>71718</td>\n",
       "      <td>0</td>\n",
       "      <td>20080215</td>\n",
       "      <td>0</td>\n",
       "      <td>0</td>\n",
       "      <td>150</td>\n",
       "      <td>0</td>\n",
       "      <td>1</td>\n",
       "      <td>1812</td>\n",
       "      <td>2939</td>\n",
       "      <td>24</td>\n",
       "      <td>1</td>\n",
       "    </tr>\n",
       "    <tr>\n",
       "      <th>8</th>\n",
       "      <td>7</td>\n",
       "      <td>1479130924</td>\n",
       "      <td>542335</td>\n",
       "      <td>71718</td>\n",
       "      <td>0</td>\n",
       "      <td>20080215</td>\n",
       "      <td>0</td>\n",
       "      <td>0</td>\n",
       "      <td>150</td>\n",
       "      <td>0</td>\n",
       "      <td>1</td>\n",
       "      <td>1812</td>\n",
       "      <td>2939</td>\n",
       "      <td>24</td>\n",
       "      <td>1</td>\n",
       "    </tr>\n",
       "    <tr>\n",
       "      <th>11</th>\n",
       "      <td>7</td>\n",
       "      <td>1479279494</td>\n",
       "      <td>542335</td>\n",
       "      <td>71718</td>\n",
       "      <td>0</td>\n",
       "      <td>20080215</td>\n",
       "      <td>0</td>\n",
       "      <td>0</td>\n",
       "      <td>150</td>\n",
       "      <td>0</td>\n",
       "      <td>1</td>\n",
       "      <td>1812</td>\n",
       "      <td>2939</td>\n",
       "      <td>24</td>\n",
       "      <td>1</td>\n",
       "    </tr>\n",
       "    <tr>\n",
       "      <th>12</th>\n",
       "      <td>7</td>\n",
       "      <td>1478356603</td>\n",
       "      <td>542341</td>\n",
       "      <td>71718</td>\n",
       "      <td>1</td>\n",
       "      <td>20080215</td>\n",
       "      <td>0</td>\n",
       "      <td>0</td>\n",
       "      <td>188</td>\n",
       "      <td>1</td>\n",
       "      <td>0</td>\n",
       "      <td>822</td>\n",
       "      <td>2939</td>\n",
       "      <td>21</td>\n",
       "      <td>1</td>\n",
       "    </tr>\n",
       "    <tr>\n",
       "      <th>13</th>\n",
       "      <td>7</td>\n",
       "      <td>1479968326</td>\n",
       "      <td>542335</td>\n",
       "      <td>71718</td>\n",
       "      <td>1</td>\n",
       "      <td>20080215</td>\n",
       "      <td>0</td>\n",
       "      <td>0</td>\n",
       "      <td>150</td>\n",
       "      <td>1</td>\n",
       "      <td>0</td>\n",
       "      <td>2946</td>\n",
       "      <td>2939</td>\n",
       "      <td>20</td>\n",
       "      <td>0</td>\n",
       "    </tr>\n",
       "    <tr>\n",
       "      <th>18</th>\n",
       "      <td>7</td>\n",
       "      <td>1480084581</td>\n",
       "      <td>542335</td>\n",
       "      <td>71718</td>\n",
       "      <td>0</td>\n",
       "      <td>20080215</td>\n",
       "      <td>0</td>\n",
       "      <td>0</td>\n",
       "      <td>150</td>\n",
       "      <td>0</td>\n",
       "      <td>1</td>\n",
       "      <td>1812</td>\n",
       "      <td>2939</td>\n",
       "      <td>24</td>\n",
       "      <td>1</td>\n",
       "    </tr>\n",
       "    <tr>\n",
       "      <th>20</th>\n",
       "      <td>7</td>\n",
       "      <td>1480236062</td>\n",
       "      <td>542335</td>\n",
       "      <td>71718</td>\n",
       "      <td>0</td>\n",
       "      <td>20080215</td>\n",
       "      <td>0</td>\n",
       "      <td>0</td>\n",
       "      <td>150</td>\n",
       "      <td>0</td>\n",
       "      <td>1</td>\n",
       "      <td>1812</td>\n",
       "      <td>2939</td>\n",
       "      <td>24</td>\n",
       "      <td>1</td>\n",
       "    </tr>\n",
       "    <tr>\n",
       "      <th>22</th>\n",
       "      <td>7</td>\n",
       "      <td>1479409743</td>\n",
       "      <td>542335</td>\n",
       "      <td>71718</td>\n",
       "      <td>6</td>\n",
       "      <td>20080215</td>\n",
       "      <td>0</td>\n",
       "      <td>0</td>\n",
       "      <td>150</td>\n",
       "      <td>1</td>\n",
       "      <td>1</td>\n",
       "      <td>754</td>\n",
       "      <td>2939</td>\n",
       "      <td>29</td>\n",
       "      <td>1</td>\n",
       "    </tr>\n",
       "    <tr>\n",
       "      <th>35</th>\n",
       "      <td>7</td>\n",
       "      <td>1478956898</td>\n",
       "      <td>542335</td>\n",
       "      <td>71718</td>\n",
       "      <td>6</td>\n",
       "      <td>20080215</td>\n",
       "      <td>0</td>\n",
       "      <td>0</td>\n",
       "      <td>150</td>\n",
       "      <td>1</td>\n",
       "      <td>1</td>\n",
       "      <td>754</td>\n",
       "      <td>2939</td>\n",
       "      <td>29</td>\n",
       "      <td>1</td>\n",
       "    </tr>\n",
       "    <tr>\n",
       "      <th>37</th>\n",
       "      <td>7</td>\n",
       "      <td>1480514658</td>\n",
       "      <td>542335</td>\n",
       "      <td>71718</td>\n",
       "      <td>0</td>\n",
       "      <td>20080215</td>\n",
       "      <td>0</td>\n",
       "      <td>0</td>\n",
       "      <td>150</td>\n",
       "      <td>0</td>\n",
       "      <td>1</td>\n",
       "      <td>1812</td>\n",
       "      <td>2939</td>\n",
       "      <td>24</td>\n",
       "      <td>1</td>\n",
       "    </tr>\n",
       "    <tr>\n",
       "      <th>38</th>\n",
       "      <td>3</td>\n",
       "      <td>1479450335</td>\n",
       "      <td>549742</td>\n",
       "      <td>72309</td>\n",
       "      <td>0</td>\n",
       "      <td>20010101</td>\n",
       "      <td>0</td>\n",
       "      <td>0</td>\n",
       "      <td>189</td>\n",
       "      <td>0</td>\n",
       "      <td>1</td>\n",
       "      <td>178</td>\n",
       "      <td>2900</td>\n",
       "      <td>25</td>\n",
       "      <td>0</td>\n",
       "    </tr>\n",
       "    <tr>\n",
       "      <th>63</th>\n",
       "      <td>7</td>\n",
       "      <td>1479003658</td>\n",
       "      <td>638445</td>\n",
       "      <td>79401</td>\n",
       "      <td>18</td>\n",
       "      <td>20010101</td>\n",
       "      <td>2</td>\n",
       "      <td>1</td>\n",
       "      <td>216</td>\n",
       "      <td>0</td>\n",
       "      <td>0</td>\n",
       "      <td>2001</td>\n",
       "      <td>45</td>\n",
       "      <td>26</td>\n",
       "      <td>0</td>\n",
       "    </tr>\n",
       "    <tr>\n",
       "      <th>64</th>\n",
       "      <td>7</td>\n",
       "      <td>1478403091</td>\n",
       "      <td>638435</td>\n",
       "      <td>79401</td>\n",
       "      <td>0</td>\n",
       "      <td>20010101</td>\n",
       "      <td>0</td>\n",
       "      <td>0</td>\n",
       "      <td>245</td>\n",
       "      <td>0</td>\n",
       "      <td>1</td>\n",
       "      <td>482</td>\n",
       "      <td>45</td>\n",
       "      <td>24</td>\n",
       "      <td>0</td>\n",
       "    </tr>\n",
       "    <tr>\n",
       "      <th>65</th>\n",
       "      <td>7</td>\n",
       "      <td>1480480319</td>\n",
       "      <td>638435</td>\n",
       "      <td>79401</td>\n",
       "      <td>1</td>\n",
       "      <td>20010101</td>\n",
       "      <td>0</td>\n",
       "      <td>0</td>\n",
       "      <td>245</td>\n",
       "      <td>1</td>\n",
       "      <td>1</td>\n",
       "      <td>1273</td>\n",
       "      <td>45</td>\n",
       "      <td>28</td>\n",
       "      <td>0</td>\n",
       "    </tr>\n",
       "    <tr>\n",
       "      <th>66</th>\n",
       "      <td>50</td>\n",
       "      <td>1479480065</td>\n",
       "      <td>662745</td>\n",
       "      <td>80386</td>\n",
       "      <td>7</td>\n",
       "      <td>20050829</td>\n",
       "      <td>2</td>\n",
       "      <td>1</td>\n",
       "      <td>281</td>\n",
       "      <td>1</td>\n",
       "      <td>1</td>\n",
       "      <td>326</td>\n",
       "      <td>8270</td>\n",
       "      <td>30</td>\n",
       "      <td>1</td>\n",
       "    </tr>\n",
       "    <tr>\n",
       "      <th>69</th>\n",
       "      <td>10</td>\n",
       "      <td>1478116207</td>\n",
       "      <td>666726</td>\n",
       "      <td>80780</td>\n",
       "      <td>0</td>\n",
       "      <td>19950815</td>\n",
       "      <td>0</td>\n",
       "      <td>0</td>\n",
       "      <td>144</td>\n",
       "      <td>0</td>\n",
       "      <td>1</td>\n",
       "      <td>2192</td>\n",
       "      <td>960</td>\n",
       "      <td>18</td>\n",
       "      <td>0</td>\n",
       "    </tr>\n",
       "    <tr>\n",
       "      <th>79</th>\n",
       "      <td>10</td>\n",
       "      <td>1478178434</td>\n",
       "      <td>666726</td>\n",
       "      <td>80780</td>\n",
       "      <td>1</td>\n",
       "      <td>19950815</td>\n",
       "      <td>0</td>\n",
       "      <td>0</td>\n",
       "      <td>144</td>\n",
       "      <td>1</td>\n",
       "      <td>0</td>\n",
       "      <td>640</td>\n",
       "      <td>960</td>\n",
       "      <td>24</td>\n",
       "      <td>0</td>\n",
       "    </tr>\n",
       "    <tr>\n",
       "      <th>80</th>\n",
       "      <td>10</td>\n",
       "      <td>1478877795</td>\n",
       "      <td>666726</td>\n",
       "      <td>80780</td>\n",
       "      <td>1</td>\n",
       "      <td>19950815</td>\n",
       "      <td>1</td>\n",
       "      <td>0</td>\n",
       "      <td>144</td>\n",
       "      <td>1</td>\n",
       "      <td>0</td>\n",
       "      <td>3827</td>\n",
       "      <td>960</td>\n",
       "      <td>27</td>\n",
       "      <td>1</td>\n",
       "    </tr>\n",
       "  </tbody>\n",
       "</table>\n",
       "</div>"
      ],
      "text/plain": [
       "    genre_id   ts_listen  media_id  album_id  context_type  release_date  \\\n",
       "4          7  1478368974    542335     71718             0      20080215   \n",
       "5          7  1478382544    542335     71718             0      20080215   \n",
       "6          7  1478338409    542335     71718             0      20080215   \n",
       "8          7  1479130924    542335     71718             0      20080215   \n",
       "11         7  1479279494    542335     71718             0      20080215   \n",
       "12         7  1478356603    542341     71718             1      20080215   \n",
       "13         7  1479968326    542335     71718             1      20080215   \n",
       "18         7  1480084581    542335     71718             0      20080215   \n",
       "20         7  1480236062    542335     71718             0      20080215   \n",
       "22         7  1479409743    542335     71718             6      20080215   \n",
       "35         7  1478956898    542335     71718             6      20080215   \n",
       "37         7  1480514658    542335     71718             0      20080215   \n",
       "38         3  1479450335    549742     72309             0      20010101   \n",
       "63         7  1479003658    638445     79401            18      20010101   \n",
       "64         7  1478403091    638435     79401             0      20010101   \n",
       "65         7  1480480319    638435     79401             1      20010101   \n",
       "66        50  1479480065    662745     80386             7      20050829   \n",
       "69        10  1478116207    666726     80780             0      19950815   \n",
       "79        10  1478178434    666726     80780             1      19950815   \n",
       "80        10  1478877795    666726     80780             1      19950815   \n",
       "\n",
       "    platform_name  platform_family  media_duration  listen_type  user_gender  \\\n",
       "4               0                0             150            0            1   \n",
       "5               0                0             150            0            1   \n",
       "6               0                0             150            0            1   \n",
       "8               0                0             150            0            1   \n",
       "11              0                0             150            0            1   \n",
       "12              0                0             188            1            0   \n",
       "13              0                0             150            1            0   \n",
       "18              0                0             150            0            1   \n",
       "20              0                0             150            0            1   \n",
       "22              0                0             150            1            1   \n",
       "35              0                0             150            1            1   \n",
       "37              0                0             150            0            1   \n",
       "38              0                0             189            0            1   \n",
       "63              2                1             216            0            0   \n",
       "64              0                0             245            0            1   \n",
       "65              0                0             245            1            1   \n",
       "66              2                1             281            1            1   \n",
       "69              0                0             144            0            1   \n",
       "79              0                0             144            1            0   \n",
       "80              1                0             144            1            0   \n",
       "\n",
       "    user_id  artist_id  user_age  is_listened  \n",
       "4      1812       2939        24            1  \n",
       "5      1812       2939        24            1  \n",
       "6      1812       2939        24            1  \n",
       "8      1812       2939        24            1  \n",
       "11     1812       2939        24            1  \n",
       "12      822       2939        21            1  \n",
       "13     2946       2939        20            0  \n",
       "18     1812       2939        24            1  \n",
       "20     1812       2939        24            1  \n",
       "22      754       2939        29            1  \n",
       "35      754       2939        29            1  \n",
       "37     1812       2939        24            1  \n",
       "38      178       2900        25            0  \n",
       "63     2001         45        26            0  \n",
       "64      482         45        24            0  \n",
       "65     1273         45        28            0  \n",
       "66      326       8270        30            1  \n",
       "69     2192        960        18            0  \n",
       "79      640        960        24            0  \n",
       "80     3827        960        27            1  "
      ]
     },
     "execution_count": 6,
     "metadata": {},
     "output_type": "execute_result"
    }
   ],
   "source": [
    "train.head(20)"
   ]
  },
  {
   "cell_type": "markdown",
   "metadata": {},
   "source": [
    "Since users is a important thing in our dataset, we should check it:\n"
   ]
  },
  {
   "cell_type": "code",
   "execution_count": 7,
   "metadata": {},
   "outputs": [
    {
     "name": "stdout",
     "output_type": "stream",
     "text": [
      "We have 2458 unique users in the train dataset\n"
     ]
    }
   ],
   "source": [
    "print(\"We have {} unique users in the train dataset\".format(len(train[\"user_id\"].unique())))"
   ]
  },
  {
   "cell_type": "markdown",
   "metadata": {},
   "source": [
    "We can see that we have only 2458 users in the train dataset, while it's known that in the test we should produce predictions to 2500 users. It means that for 42 users we need to predict something without data from them.\n",
    "\n",
    "Now, we can do the same thing for all categorical variables:"
   ]
  },
  {
   "cell_type": "code",
   "execution_count": 6,
   "metadata": {
    "scrolled": true
   },
   "outputs": [
    {
     "name": "stdout",
     "output_type": "stream",
     "text": [
      "Number of unique values for categorical columns: \n",
      "genre_id: 1648\n",
      "media_id: 135611\n",
      "album_id: 54844\n",
      "context_type: 65\n",
      "release_date: 6723\n",
      "platform_name: 3\n",
      "platform_family: 3\n",
      "listen_type: 2\n",
      "user_gender: 2\n",
      "user_id: 2458\n",
      "artist_id: 25226\n",
      "user_age: 13\n"
     ]
    }
   ],
   "source": [
    "categorical_cols = [\"genre_id\",\n",
    "                   \"media_id\",\n",
    "                   \"album_id\",\n",
    "                   \"context_type\",\n",
    "                   \"release_date\",\n",
    "                   \"platform_name\",\n",
    "                   \"platform_family\",\n",
    "                   \"listen_type\",\n",
    "                   \"user_gender\",\n",
    "                   \"user_id\",\n",
    "                   \"artist_id\",\n",
    "                   \"user_age\"]\n",
    "\n",
    "print(\"Number of unique values for categorical columns: \")\n",
    "for col in categorical_cols:\n",
    "    print(\"{}: {}\".format(col, len(train[col].unique())))\n"
   ]
  },
  {
   "cell_type": "markdown",
   "metadata": {},
   "source": [
    "One way to get a feeling about a feature/variable in the dataset is to describe it with descriptive statistics and plot its distribution. Let's do it for age:"
   ]
  },
  {
   "cell_type": "code",
   "execution_count": 8,
   "metadata": {},
   "outputs": [
    {
     "data": {
      "text/plain": [
       "count    1.212039e+06\n",
       "mean     2.470945e+01\n",
       "std      3.637900e+00\n",
       "min      1.800000e+01\n",
       "25%      2.200000e+01\n",
       "50%      2.500000e+01\n",
       "75%      2.800000e+01\n",
       "max      3.000000e+01\n",
       "Name: user_age, dtype: float64"
      ]
     },
     "execution_count": 8,
     "metadata": {},
     "output_type": "execute_result"
    }
   ],
   "source": [
    "train[\"user_age\"].describe()"
   ]
  },
  {
   "cell_type": "markdown",
   "metadata": {},
   "source": [
    "The min is 18 and the maximum is 30. Probably, the dataset was built with this age range. It's unlikely that the oldest Deezer user is 30 years old."
   ]
  },
  {
   "cell_type": "code",
   "execution_count": 8,
   "metadata": {},
   "outputs": [
    {
     "data": {
      "image/png": "[encoded data removed]",
      "text/plain": [
       "<matplotlib.figure.Figure at 0x119c75438>"
      ]
     },
     "metadata": {},
     "output_type": "display_data"
    }
   ],
   "source": [
    "plt.hist(train[\"user_age\"], bins=8)\n",
    "plt.title(\"User age distribution in train dataset\")\n",
    "plt.xlabel(\"Age (years)\")\n",
    "plt.ylabel(\"User count\")\n",
    "plt.show()"
   ]
  },
  {
   "cell_type": "markdown",
   "metadata": {},
   "source": [
    "We can as well check a categorical variable, as user_gender:"
   ]
  },
  {
   "cell_type": "code",
   "execution_count": 9,
   "metadata": {},
   "outputs": [
    {
     "data": {
      "image/png": "[encoded data removed]",
      "text/plain": [
       "<matplotlib.figure.Figure at 0x11810c550>"
      ]
     },
     "metadata": {},
     "output_type": "display_data"
    }
   ],
   "source": [
    "train[\"user_gender\"].value_counts().plot(kind=\"bar\")\n",
    "plt.title(\"User by gender\")\n",
    "plt.xlabel(\"Gender - 0: Male, 1: Female\")\n",
    "plt.ylabel(\"Count\")\n",
    "plt.show()"
   ]
  },
  {
   "cell_type": "markdown",
   "metadata": {},
   "source": [
    "Keep checking statistics and distribution for other variables!"
   ]
  },
  {
   "cell_type": "markdown",
   "metadata": {},
   "source": [
    "### Preprocessing\n",
    "\n",
    "Sometimes we need to process the data before using it as the input of a model. \n",
    "\n",
    "We are going to keep only a few columns to work with.\n",
    "\n",
    "**Purpose**: Adjust data to be used.\n",
    "\n",
    "**How to do it**: Cleaning, replacing missing values and transforming data."
   ]
  },
  {
   "cell_type": "code",
   "execution_count": 10,
   "metadata": {
    "collapsed": true
   },
   "outputs": [],
   "source": [
    "target = \"is_listened\"\n",
    "linear_regression_columns = [\"media_duration\",\n",
    "                             \"platform_name\",\n",
    "                             \"platform_family\",\n",
    "                             \"listen_type\",\n",
    "                             \"user_gender\", \n",
    "                             \"user_age\"]"
   ]
  },
  {
   "cell_type": "code",
   "execution_count": 11,
   "metadata": {
    "collapsed": true
   },
   "outputs": [],
   "source": [
    "train = train[linear_regression_columns + [target]]\n",
    "test = test[linear_regression_columns]"
   ]
  },
  {
   "cell_type": "code",
   "execution_count": 12,
   "metadata": {},
   "outputs": [
    {
     "data": {
      "text/html": [
       "<div>\n",
       "<style>\n",
       "    .dataframe thead tr:only-child th {\n",
       "        text-align: right;\n",
       "    }\n",
       "\n",
       "    .dataframe thead th {\n",
       "        text-align: left;\n",
       "    }\n",
       "\n",
       "    .dataframe tbody tr th {\n",
       "        vertical-align: top;\n",
       "    }\n",
       "</style>\n",
       "<table border=\"1\" class=\"dataframe\">\n",
       "  <thead>\n",
       "    <tr style=\"text-align: right;\">\n",
       "      <th></th>\n",
       "      <th>media_duration</th>\n",
       "      <th>platform_name</th>\n",
       "      <th>platform_family</th>\n",
       "      <th>listen_type</th>\n",
       "      <th>user_gender</th>\n",
       "      <th>user_age</th>\n",
       "      <th>is_listened</th>\n",
       "    </tr>\n",
       "  </thead>\n",
       "  <tbody>\n",
       "    <tr>\n",
       "      <th>4</th>\n",
       "      <td>150</td>\n",
       "      <td>0</td>\n",
       "      <td>0</td>\n",
       "      <td>0</td>\n",
       "      <td>1</td>\n",
       "      <td>24</td>\n",
       "      <td>1</td>\n",
       "    </tr>\n",
       "    <tr>\n",
       "      <th>5</th>\n",
       "      <td>150</td>\n",
       "      <td>0</td>\n",
       "      <td>0</td>\n",
       "      <td>0</td>\n",
       "      <td>1</td>\n",
       "      <td>24</td>\n",
       "      <td>1</td>\n",
       "    </tr>\n",
       "    <tr>\n",
       "      <th>6</th>\n",
       "      <td>150</td>\n",
       "      <td>0</td>\n",
       "      <td>0</td>\n",
       "      <td>0</td>\n",
       "      <td>1</td>\n",
       "      <td>24</td>\n",
       "      <td>1</td>\n",
       "    </tr>\n",
       "    <tr>\n",
       "      <th>8</th>\n",
       "      <td>150</td>\n",
       "      <td>0</td>\n",
       "      <td>0</td>\n",
       "      <td>0</td>\n",
       "      <td>1</td>\n",
       "      <td>24</td>\n",
       "      <td>1</td>\n",
       "    </tr>\n",
       "    <tr>\n",
       "      <th>11</th>\n",
       "      <td>150</td>\n",
       "      <td>0</td>\n",
       "      <td>0</td>\n",
       "      <td>0</td>\n",
       "      <td>1</td>\n",
       "      <td>24</td>\n",
       "      <td>1</td>\n",
       "    </tr>\n",
       "  </tbody>\n",
       "</table>\n",
       "</div>"
      ],
      "text/plain": [
       "    media_duration  platform_name  platform_family  listen_type  user_gender  \\\n",
       "4              150              0                0            0            1   \n",
       "5              150              0                0            0            1   \n",
       "6              150              0                0            0            1   \n",
       "8              150              0                0            0            1   \n",
       "11             150              0                0            0            1   \n",
       "\n",
       "    user_age  is_listened  \n",
       "4         24            1  \n",
       "5         24            1  \n",
       "6         24            1  \n",
       "8         24            1  \n",
       "11        24            1  "
      ]
     },
     "execution_count": 12,
     "metadata": {},
     "output_type": "execute_result"
    }
   ],
   "source": [
    "train.head()"
   ]
  },
  {
   "cell_type": "markdown",
   "metadata": {},
   "source": [
    "### Feature Engineering\n",
    "\n",
    "**Purpose**: Make data meaning more explicit to the model; Create new information by combining features;\n",
    "\n",
    "**How to do it**: Combine, transform, encode and so on. Here's one of the most creative parts of data science, have fun!"
   ]
  },
  {
   "cell_type": "code",
   "execution_count": 13,
   "metadata": {
    "collapsed": true
   },
   "outputs": [],
   "source": [
    "train[\"user_age_squared\"] = train[\"user_age\"] ** 2\n",
    "test[\"user_age_squared\"] = test[\"user_age\"] ** 2\n",
    "\n",
    "train[\"media_duration_squared\"] = train[\"media_duration\"] ** 2\n",
    "test[\"media_duration_squared\"] = test[\"media_duration\"] ** 2"
   ]
  },
  {
   "cell_type": "code",
   "execution_count": 15,
   "metadata": {
    "collapsed": true
   },
   "outputs": [],
   "source": [
    "from sklearn.preprocessing import MinMaxScaler\n",
    "\n",
    "cols_to_rescale = [\"user_age\", \n",
    "                  \"user_age_squared\",\n",
    "                  \"media_duration\",\n",
    "                  \"media_duration_squared\"]\n",
    "\n",
    "for col in cols_to_rescale:\n",
    "    mm = MinMaxScaler()\n",
    "    train[col + \"_rescaled\"] = mm.fit_transform(train[[col]])\n",
    "    test[col + \"_rescaled\"] = mm.transform(test[[col]])"
   ]
  },
  {
   "cell_type": "code",
   "execution_count": 16,
   "metadata": {},
   "outputs": [
    {
     "data": {
      "text/html": [
       "<div>\n",
       "<style>\n",
       "    .dataframe thead tr:only-child th {\n",
       "        text-align: right;\n",
       "    }\n",
       "\n",
       "    .dataframe thead th {\n",
       "        text-align: left;\n",
       "    }\n",
       "\n",
       "    .dataframe tbody tr th {\n",
       "        vertical-align: top;\n",
       "    }\n",
       "</style>\n",
       "<table border=\"1\" class=\"dataframe\">\n",
       "  <thead>\n",
       "    <tr style=\"text-align: right;\">\n",
       "      <th></th>\n",
       "      <th>media_duration</th>\n",
       "      <th>platform_name</th>\n",
       "      <th>platform_family</th>\n",
       "      <th>listen_type</th>\n",
       "      <th>user_gender</th>\n",
       "      <th>user_age</th>\n",
       "      <th>is_listened</th>\n",
       "      <th>user_age_squared</th>\n",
       "      <th>media_duration_squared</th>\n",
       "      <th>user_age_rescaled</th>\n",
       "      <th>user_age_squared_rescaled</th>\n",
       "      <th>media_duration_rescaled</th>\n",
       "      <th>media_duration_squared_rescaled</th>\n",
       "    </tr>\n",
       "  </thead>\n",
       "  <tbody>\n",
       "    <tr>\n",
       "      <th>4</th>\n",
       "      <td>150</td>\n",
       "      <td>0</td>\n",
       "      <td>0</td>\n",
       "      <td>0</td>\n",
       "      <td>1</td>\n",
       "      <td>24</td>\n",
       "      <td>1</td>\n",
       "      <td>576</td>\n",
       "      <td>22500</td>\n",
       "      <td>0.5</td>\n",
       "      <td>0.4375</td>\n",
       "      <td>0.016379</td>\n",
       "      <td>0.000268</td>\n",
       "    </tr>\n",
       "    <tr>\n",
       "      <th>5</th>\n",
       "      <td>150</td>\n",
       "      <td>0</td>\n",
       "      <td>0</td>\n",
       "      <td>0</td>\n",
       "      <td>1</td>\n",
       "      <td>24</td>\n",
       "      <td>1</td>\n",
       "      <td>576</td>\n",
       "      <td>22500</td>\n",
       "      <td>0.5</td>\n",
       "      <td>0.4375</td>\n",
       "      <td>0.016379</td>\n",
       "      <td>0.000268</td>\n",
       "    </tr>\n",
       "    <tr>\n",
       "      <th>6</th>\n",
       "      <td>150</td>\n",
       "      <td>0</td>\n",
       "      <td>0</td>\n",
       "      <td>0</td>\n",
       "      <td>1</td>\n",
       "      <td>24</td>\n",
       "      <td>1</td>\n",
       "      <td>576</td>\n",
       "      <td>22500</td>\n",
       "      <td>0.5</td>\n",
       "      <td>0.4375</td>\n",
       "      <td>0.016379</td>\n",
       "      <td>0.000268</td>\n",
       "    </tr>\n",
       "    <tr>\n",
       "      <th>8</th>\n",
       "      <td>150</td>\n",
       "      <td>0</td>\n",
       "      <td>0</td>\n",
       "      <td>0</td>\n",
       "      <td>1</td>\n",
       "      <td>24</td>\n",
       "      <td>1</td>\n",
       "      <td>576</td>\n",
       "      <td>22500</td>\n",
       "      <td>0.5</td>\n",
       "      <td>0.4375</td>\n",
       "      <td>0.016379</td>\n",
       "      <td>0.000268</td>\n",
       "    </tr>\n",
       "    <tr>\n",
       "      <th>11</th>\n",
       "      <td>150</td>\n",
       "      <td>0</td>\n",
       "      <td>0</td>\n",
       "      <td>0</td>\n",
       "      <td>1</td>\n",
       "      <td>24</td>\n",
       "      <td>1</td>\n",
       "      <td>576</td>\n",
       "      <td>22500</td>\n",
       "      <td>0.5</td>\n",
       "      <td>0.4375</td>\n",
       "      <td>0.016379</td>\n",
       "      <td>0.000268</td>\n",
       "    </tr>\n",
       "  </tbody>\n",
       "</table>\n",
       "</div>"
      ],
      "text/plain": [
       "    media_duration  platform_name  platform_family  listen_type  user_gender  \\\n",
       "4              150              0                0            0            1   \n",
       "5              150              0                0            0            1   \n",
       "6              150              0                0            0            1   \n",
       "8              150              0                0            0            1   \n",
       "11             150              0                0            0            1   \n",
       "\n",
       "    user_age  is_listened  user_age_squared  media_duration_squared  \\\n",
       "4         24            1               576                   22500   \n",
       "5         24            1               576                   22500   \n",
       "6         24            1               576                   22500   \n",
       "8         24            1               576                   22500   \n",
       "11        24            1               576                   22500   \n",
       "\n",
       "    user_age_rescaled  user_age_squared_rescaled  media_duration_rescaled  \\\n",
       "4                 0.5                     0.4375                 0.016379   \n",
       "5                 0.5                     0.4375                 0.016379   \n",
       "6                 0.5                     0.4375                 0.016379   \n",
       "8                 0.5                     0.4375                 0.016379   \n",
       "11                0.5                     0.4375                 0.016379   \n",
       "\n",
       "    media_duration_squared_rescaled  \n",
       "4                          0.000268  \n",
       "5                          0.000268  \n",
       "6                          0.000268  \n",
       "8                          0.000268  \n",
       "11                         0.000268  "
      ]
     },
     "execution_count": 16,
     "metadata": {},
     "output_type": "execute_result"
    }
   ],
   "source": [
    "train.head()"
   ]
  },
  {
   "cell_type": "markdown",
   "metadata": {},
   "source": [
    "One Hot Encoding"
   ]
  },
  {
   "cell_type": "code",
   "execution_count": 17,
   "metadata": {
    "collapsed": true
   },
   "outputs": [],
   "source": [
    "from greenpyce.feature_engineering import onehot\n",
    "\n",
    "cols_to_ohe = [\"platform_name\", \n",
    "               \"platform_family\"]\n",
    "\n",
    "train = onehot(train, cols_to_ohe, new_columns=True)\n",
    "test = onehot(test, cols_to_ohe, new_columns=True)"
   ]
  },
  {
   "cell_type": "code",
   "execution_count": 18,
   "metadata": {},
   "outputs": [
    {
     "data": {
      "text/html": [
       "<div>\n",
       "<style>\n",
       "    .dataframe thead tr:only-child th {\n",
       "        text-align: right;\n",
       "    }\n",
       "\n",
       "    .dataframe thead th {\n",
       "        text-align: left;\n",
       "    }\n",
       "\n",
       "    .dataframe tbody tr th {\n",
       "        vertical-align: top;\n",
       "    }\n",
       "</style>\n",
       "<table border=\"1\" class=\"dataframe\">\n",
       "  <thead>\n",
       "    <tr style=\"text-align: right;\">\n",
       "      <th></th>\n",
       "      <th>media_duration</th>\n",
       "      <th>listen_type</th>\n",
       "      <th>user_gender</th>\n",
       "      <th>user_age</th>\n",
       "      <th>is_listened</th>\n",
       "      <th>user_age_squared</th>\n",
       "      <th>media_duration_squared</th>\n",
       "      <th>user_age_rescaled</th>\n",
       "      <th>user_age_squared_rescaled</th>\n",
       "      <th>media_duration_rescaled</th>\n",
       "      <th>media_duration_squared_rescaled</th>\n",
       "      <th>platform_name_1</th>\n",
       "      <th>platform_name_2</th>\n",
       "      <th>platform_family_1</th>\n",
       "      <th>platform_family_2</th>\n",
       "    </tr>\n",
       "  </thead>\n",
       "  <tbody>\n",
       "    <tr>\n",
       "      <th>4</th>\n",
       "      <td>150</td>\n",
       "      <td>0</td>\n",
       "      <td>1</td>\n",
       "      <td>24</td>\n",
       "      <td>1</td>\n",
       "      <td>576</td>\n",
       "      <td>22500</td>\n",
       "      <td>0.5</td>\n",
       "      <td>0.4375</td>\n",
       "      <td>0.016379</td>\n",
       "      <td>0.000268</td>\n",
       "      <td>0</td>\n",
       "      <td>0</td>\n",
       "      <td>0</td>\n",
       "      <td>0</td>\n",
       "    </tr>\n",
       "    <tr>\n",
       "      <th>5</th>\n",
       "      <td>150</td>\n",
       "      <td>0</td>\n",
       "      <td>1</td>\n",
       "      <td>24</td>\n",
       "      <td>1</td>\n",
       "      <td>576</td>\n",
       "      <td>22500</td>\n",
       "      <td>0.5</td>\n",
       "      <td>0.4375</td>\n",
       "      <td>0.016379</td>\n",
       "      <td>0.000268</td>\n",
       "      <td>0</td>\n",
       "      <td>0</td>\n",
       "      <td>0</td>\n",
       "      <td>0</td>\n",
       "    </tr>\n",
       "    <tr>\n",
       "      <th>6</th>\n",
       "      <td>150</td>\n",
       "      <td>0</td>\n",
       "      <td>1</td>\n",
       "      <td>24</td>\n",
       "      <td>1</td>\n",
       "      <td>576</td>\n",
       "      <td>22500</td>\n",
       "      <td>0.5</td>\n",
       "      <td>0.4375</td>\n",
       "      <td>0.016379</td>\n",
       "      <td>0.000268</td>\n",
       "      <td>0</td>\n",
       "      <td>0</td>\n",
       "      <td>0</td>\n",
       "      <td>0</td>\n",
       "    </tr>\n",
       "    <tr>\n",
       "      <th>8</th>\n",
       "      <td>150</td>\n",
       "      <td>0</td>\n",
       "      <td>1</td>\n",
       "      <td>24</td>\n",
       "      <td>1</td>\n",
       "      <td>576</td>\n",
       "      <td>22500</td>\n",
       "      <td>0.5</td>\n",
       "      <td>0.4375</td>\n",
       "      <td>0.016379</td>\n",
       "      <td>0.000268</td>\n",
       "      <td>0</td>\n",
       "      <td>0</td>\n",
       "      <td>0</td>\n",
       "      <td>0</td>\n",
       "    </tr>\n",
       "    <tr>\n",
       "      <th>11</th>\n",
       "      <td>150</td>\n",
       "      <td>0</td>\n",
       "      <td>1</td>\n",
       "      <td>24</td>\n",
       "      <td>1</td>\n",
       "      <td>576</td>\n",
       "      <td>22500</td>\n",
       "      <td>0.5</td>\n",
       "      <td>0.4375</td>\n",
       "      <td>0.016379</td>\n",
       "      <td>0.000268</td>\n",
       "      <td>0</td>\n",
       "      <td>0</td>\n",
       "      <td>0</td>\n",
       "      <td>0</td>\n",
       "    </tr>\n",
       "  </tbody>\n",
       "</table>\n",
       "</div>"
      ],
      "text/plain": [
       "    media_duration  listen_type  user_gender  user_age  is_listened  \\\n",
       "4              150            0            1        24            1   \n",
       "5              150            0            1        24            1   \n",
       "6              150            0            1        24            1   \n",
       "8              150            0            1        24            1   \n",
       "11             150            0            1        24            1   \n",
       "\n",
       "    user_age_squared  media_duration_squared  user_age_rescaled  \\\n",
       "4                576                   22500                0.5   \n",
       "5                576                   22500                0.5   \n",
       "6                576                   22500                0.5   \n",
       "8                576                   22500                0.5   \n",
       "11               576                   22500                0.5   \n",
       "\n",
       "    user_age_squared_rescaled  media_duration_rescaled  \\\n",
       "4                      0.4375                 0.016379   \n",
       "5                      0.4375                 0.016379   \n",
       "6                      0.4375                 0.016379   \n",
       "8                      0.4375                 0.016379   \n",
       "11                     0.4375                 0.016379   \n",
       "\n",
       "    media_duration_squared_rescaled  platform_name_1  platform_name_2  \\\n",
       "4                          0.000268                0                0   \n",
       "5                          0.000268                0                0   \n",
       "6                          0.000268                0                0   \n",
       "8                          0.000268                0                0   \n",
       "11                         0.000268                0                0   \n",
       "\n",
       "    platform_family_1  platform_family_2  \n",
       "4                   0                  0  \n",
       "5                   0                  0  \n",
       "6                   0                  0  \n",
       "8                   0                  0  \n",
       "11                  0                  0  "
      ]
     },
     "execution_count": 18,
     "metadata": {},
     "output_type": "execute_result"
    }
   ],
   "source": [
    "train.head()"
   ]
  },
  {
   "cell_type": "markdown",
   "metadata": {},
   "source": [
    "### Modeling\n",
    "#### Logistic Regression"
   ]
  },
  {
   "cell_type": "code",
   "execution_count": 19,
   "metadata": {},
   "outputs": [
    {
     "name": "stdout",
     "output_type": "stream",
     "text": [
      "Index(['user_age_rescaled', 'user_age_squared_rescaled',\n",
      "       'media_duration_rescaled', 'media_duration_squared_rescaled',\n",
      "       'platform_name_1', 'platform_name_2', 'platform_family_1',\n",
      "       'platform_family_2'],\n",
      "      dtype='object')\n"
     ]
    }
   ],
   "source": [
    "from sklearn.linear_model import LogisticRegressionCV\n",
    "from sklearn.linear_model import LogisticRegression\n",
    "\n",
    "features = [col for col in train.columns if col != target]\n",
    "features = train.columns[7:]\n",
    "\n",
    "print(features)"
   ]
  },
  {
   "cell_type": "code",
   "execution_count": 20,
   "metadata": {},
   "outputs": [
    {
     "data": {
      "text/plain": [
       "LogisticRegressionCV(Cs=10, class_weight=None, cv=10, dual=False,\n",
       "           fit_intercept=True, intercept_scaling=1.0, max_iter=100,\n",
       "           multi_class='ovr', n_jobs=1, penalty='l2', random_state=None,\n",
       "           refit=True, scoring=None, solver='lbfgs', tol=0.0001, verbose=0)"
      ]
     },
     "execution_count": 20,
     "metadata": {},
     "output_type": "execute_result"
    }
   ],
   "source": [
    "model = LogisticRegressionCV(cv=10)\n",
    "model.fit(train[features], train[target])"
   ]
  },
  {
   "cell_type": "code",
   "execution_count": 21,
   "metadata": {},
   "outputs": [
    {
     "data": {
      "text/plain": [
       "array([[ 0.23715252,  0.76284748],\n",
       "       [ 0.13109075,  0.86890925],\n",
       "       [ 0.2919649 ,  0.7080351 ],\n",
       "       ..., \n",
       "       [ 0.3839235 ,  0.6160765 ],\n",
       "       [ 0.44525309,  0.55474691],\n",
       "       [ 0.32602669,  0.67397331]])"
      ]
     },
     "execution_count": 21,
     "metadata": {},
     "output_type": "execute_result"
    }
   ],
   "source": [
    "model.predict_proba(test[features])"
   ]
  },
  {
   "cell_type": "markdown",
   "metadata": {},
   "source": [
    "### Validation\n",
    "\n",
    "The problem is that we don't know how our model is going to perform. We need to be able to estimate it before it goes to the wild world."
   ]
  },
  {
   "cell_type": "code",
   "execution_count": 22,
   "metadata": {
    "collapsed": true
   },
   "outputs": [],
   "source": [
    "from sklearn.model_selection import train_test_split\n",
    "\n",
    "X_train, X_test, y_train, y_test = train_test_split(train[features], train[target], test_size=0.3)\n",
    "X_val, X_test, y_val, y_test = train_test_split(X_test, y_test, test_size=0.5)"
   ]
  },
  {
   "cell_type": "code",
   "execution_count": 23,
   "metadata": {},
   "outputs": [
    {
     "data": {
      "text/plain": [
       "LogisticRegressionCV(Cs=10, class_weight=None, cv=3, dual=False,\n",
       "           fit_intercept=True, intercept_scaling=1.0, max_iter=100,\n",
       "           multi_class='ovr', n_jobs=1, penalty='l2', random_state=None,\n",
       "           refit=True, scoring=None, solver='lbfgs', tol=0.0001, verbose=0)"
      ]
     },
     "execution_count": 23,
     "metadata": {},
     "output_type": "execute_result"
    }
   ],
   "source": [
    "model = LogisticRegressionCV(cv=3)\n",
    "model.fit(X_train, y_train)"
   ]
  },
  {
   "cell_type": "code",
   "execution_count": 24,
   "metadata": {
    "collapsed": true
   },
   "outputs": [],
   "source": [
    "y_pred = model.predict_proba(X_test)[:, 1]"
   ]
  },
  {
   "cell_type": "code",
   "execution_count": 25,
   "metadata": {},
   "outputs": [
    {
     "data": {
      "text/plain": [
       "array([ 0.62784315,  0.84790907,  0.60111601, ...,  0.60111549,\n",
       "        0.71372715,  0.58392849])"
      ]
     },
     "execution_count": 25,
     "metadata": {},
     "output_type": "execute_result"
    }
   ],
   "source": [
    "y_pred"
   ]
  },
  {
   "cell_type": "code",
   "execution_count": 26,
   "metadata": {},
   "outputs": [
    {
     "data": {
      "text/plain": [
       "0.64168467087390768"
      ]
     },
     "execution_count": 26,
     "metadata": {},
     "output_type": "execute_result"
    }
   ],
   "source": [
    "from sklearn.metrics import roc_auc_score\n",
    "\n",
    "roc_auc_score(y_test, y_pred)"
   ]
  },
  {
   "cell_type": "code",
   "execution_count": 27,
   "metadata": {
    "collapsed": true
   },
   "outputs": [],
   "source": [
    "predictions = model.predict_proba(test[features])[:, 1]"
   ]
  },
  {
   "cell_type": "code",
   "execution_count": 28,
   "metadata": {
    "collapsed": true
   },
   "outputs": [],
   "source": [
    "submission = pd.read_csv(\"../data/sample_submission.csv\")\n",
    "submission[\"is_listened\"] = predictions\n",
    "submission.to_csv(\"../predictions/logistic_reg.csv\", index=False)"
   ]
  },
  {
   "cell_type": "code",
   "execution_count": 28,
   "metadata": {},
   "outputs": [
    {
     "data": {
      "text/plain": [
       "Index(['media_duration', 'listen_type', 'user_gender', 'user_age',\n",
       "       'is_listened', 'user_age_squared', 'media_duration_squared',\n",
       "       'user_age_rescaled', 'user_age_squared_rescaled',\n",
       "       'media_duration_rescaled', 'media_duration_squared_rescaled',\n",
       "       'platform_name_1', 'platform_name_2', 'platform_family_1',\n",
       "       'platform_family_2'],\n",
       "      dtype='object')"
      ]
     },
     "execution_count": 28,
     "metadata": {},
     "output_type": "execute_result"
    }
   ],
   "source": [
    "train.columns"
   ]
  },
  {
   "cell_type": "markdown",
   "metadata": {},
   "source": [
    "### Decision Tree"
   ]
  },
  {
   "cell_type": "code",
   "execution_count": null,
   "metadata": {
    "collapsed": true
   },
   "outputs": [],
   "source": [
    "from sklearn.ensemble import RandomForestClassifier\n",
    "import xgboost"
   ]
  },
  {
   "cell_type": "code",
   "execution_count": 29,
   "metadata": {},
   "outputs": [
    {
     "name": "stdout",
     "output_type": "stream",
     "text": [
      "['media_duration', 'listen_type', 'user_gender', 'user_age', 'user_age_squared', 'media_duration_squared', 'user_age_rescaled', 'user_age_squared_rescaled', 'media_duration_rescaled', 'media_duration_squared_rescaled', 'platform_name_1', 'platform_name_2', 'platform_family_1', 'platform_family_2']\n"
     ]
    }
   ],
   "source": [
    "from sklearn.tree import DecisionTreeClassifier\n",
    "\n",
    "features = train.columns[:-4]\n",
    "features = [col for col in train.columns if col != target]\n",
    "features = [feat for feat in features if feat != target]\n",
    "print(features)"
   ]
  },
  {
   "cell_type": "code",
   "execution_count": 30,
   "metadata": {},
   "outputs": [
    {
     "data": {
      "text/plain": [
       "DecisionTreeClassifier(class_weight=None, criterion='gini', max_depth=None,\n",
       "            max_features=None, max_leaf_nodes=None,\n",
       "            min_impurity_decrease=0.0, min_impurity_split=None,\n",
       "            min_samples_leaf=1, min_samples_split=2,\n",
       "            min_weight_fraction_leaf=0.0, presort=False, random_state=None,\n",
       "            splitter='best')"
      ]
     },
     "execution_count": 30,
     "metadata": {},
     "output_type": "execute_result"
    }
   ],
   "source": [
    "X_train, X_test, y_train, y_test = train_test_split(train[features], train[target], test_size=0.2)\n",
    "\n",
    "model = DecisionTreeClassifier()\n",
    "model.fit(X_train, y_train)"
   ]
  },
  {
   "cell_type": "code",
   "execution_count": 31,
   "metadata": {},
   "outputs": [
    {
     "data": {
      "text/plain": [
       "0.69077025937065484"
      ]
     },
     "execution_count": 31,
     "metadata": {},
     "output_type": "execute_result"
    }
   ],
   "source": [
    "y_pred = model.predict_proba(X_test)[:, 1]\n",
    "roc_auc_score(y_test, y_pred)"
   ]
  },
  {
   "cell_type": "code",
   "execution_count": 32,
   "metadata": {
    "collapsed": true
   },
   "outputs": [],
   "source": [
    "predictions = model.predict_proba(test[features])[:, 1]"
   ]
  },
  {
   "cell_type": "code",
   "execution_count": 33,
   "metadata": {
    "collapsed": true
   },
   "outputs": [],
   "source": [
    "submission = pd.read_csv(\"../data/sample_submission.csv\")\n",
    "submission[\"is_listened\"] = predictions\n",
    "submission.to_csv(\"../predictions/decision_tree.csv\", index=False)"
   ]
  },
  {
   "cell_type": "markdown",
   "metadata": {
    "collapsed": true
   },
   "source": [
    "### More data"
   ]
  },
  {
   "cell_type": "code",
   "execution_count": 34,
   "metadata": {
    "collapsed": true
   },
   "outputs": [],
   "source": [
    "train = pd.read_csv(\"../data/train.csv\", index_col=0)\n",
    "test = pd.read_csv(\"../data/test.csv\", index_col = 0)\n",
    "artists = pd.read_csv(\"../data/deezer_API_artist_features.csv\", sep=\";\")"
   ]
  },
  {
   "cell_type": "code",
   "execution_count": 42,
   "metadata": {},
   "outputs": [
    {
     "data": {
      "text/html": [
       "<div>\n",
       "<style>\n",
       "    .dataframe thead tr:only-child th {\n",
       "        text-align: right;\n",
       "    }\n",
       "\n",
       "    .dataframe thead th {\n",
       "        text-align: left;\n",
       "    }\n",
       "\n",
       "    .dataframe tbody tr th {\n",
       "        vertical-align: top;\n",
       "    }\n",
       "</style>\n",
       "<table border=\"1\" class=\"dataframe\">\n",
       "  <thead>\n",
       "    <tr style=\"text-align: right;\">\n",
       "      <th></th>\n",
       "      <th>artist_albuns</th>\n",
       "      <th>artist_fans</th>\n",
       "      <th>artist_id</th>\n",
       "      <th>artist_radio</th>\n",
       "    </tr>\n",
       "  </thead>\n",
       "  <tbody>\n",
       "    <tr>\n",
       "      <th>0</th>\n",
       "      <td>1.0</td>\n",
       "      <td>32.0</td>\n",
       "      <td>55164</td>\n",
       "      <td>False</td>\n",
       "    </tr>\n",
       "    <tr>\n",
       "      <th>1</th>\n",
       "      <td>18.0</td>\n",
       "      <td>6204.0</td>\n",
       "      <td>55830</td>\n",
       "      <td>True</td>\n",
       "    </tr>\n",
       "    <tr>\n",
       "      <th>2</th>\n",
       "      <td>23.0</td>\n",
       "      <td>20022.0</td>\n",
       "      <td>2704</td>\n",
       "      <td>True</td>\n",
       "    </tr>\n",
       "    <tr>\n",
       "      <th>3</th>\n",
       "      <td>56.0</td>\n",
       "      <td>442765.0</td>\n",
       "      <td>938</td>\n",
       "      <td>True</td>\n",
       "    </tr>\n",
       "    <tr>\n",
       "      <th>4</th>\n",
       "      <td>65.0</td>\n",
       "      <td>28423.0</td>\n",
       "      <td>2939</td>\n",
       "      <td>True</td>\n",
       "    </tr>\n",
       "  </tbody>\n",
       "</table>\n",
       "</div>"
      ],
      "text/plain": [
       "   artist_albuns  artist_fans  artist_id  artist_radio\n",
       "0            1.0         32.0      55164         False\n",
       "1           18.0       6204.0      55830          True\n",
       "2           23.0      20022.0       2704          True\n",
       "3           56.0     442765.0        938          True\n",
       "4           65.0      28423.0       2939          True"
      ]
     },
     "execution_count": 42,
     "metadata": {},
     "output_type": "execute_result"
    }
   ],
   "source": [
    "artists.head()"
   ]
  },
  {
   "cell_type": "code",
   "execution_count": 44,
   "metadata": {},
   "outputs": [
    {
     "data": {
      "text/html": [
       "<div>\n",
       "<style>\n",
       "    .dataframe thead tr:only-child th {\n",
       "        text-align: right;\n",
       "    }\n",
       "\n",
       "    .dataframe thead th {\n",
       "        text-align: left;\n",
       "    }\n",
       "\n",
       "    .dataframe tbody tr th {\n",
       "        vertical-align: top;\n",
       "    }\n",
       "</style>\n",
       "<table border=\"1\" class=\"dataframe\">\n",
       "  <thead>\n",
       "    <tr style=\"text-align: right;\">\n",
       "      <th></th>\n",
       "      <th>genre_id</th>\n",
       "      <th>ts_listen</th>\n",
       "      <th>media_id</th>\n",
       "      <th>album_id</th>\n",
       "      <th>context_type</th>\n",
       "      <th>release_date</th>\n",
       "      <th>platform_name</th>\n",
       "      <th>platform_family</th>\n",
       "      <th>media_duration</th>\n",
       "      <th>listen_type</th>\n",
       "      <th>user_gender</th>\n",
       "      <th>user_id</th>\n",
       "      <th>artist_id</th>\n",
       "      <th>user_age</th>\n",
       "      <th>is_listened</th>\n",
       "      <th>artist_albuns</th>\n",
       "      <th>artist_fans</th>\n",
       "      <th>artist_radio</th>\n",
       "    </tr>\n",
       "  </thead>\n",
       "  <tbody>\n",
       "    <tr>\n",
       "      <th>0</th>\n",
       "      <td>7.0</td>\n",
       "      <td>1.478369e+09</td>\n",
       "      <td>542335.0</td>\n",
       "      <td>71718.0</td>\n",
       "      <td>0.0</td>\n",
       "      <td>20080215.0</td>\n",
       "      <td>0.0</td>\n",
       "      <td>0.0</td>\n",
       "      <td>150.0</td>\n",
       "      <td>0.0</td>\n",
       "      <td>1.0</td>\n",
       "      <td>1812.0</td>\n",
       "      <td>2939</td>\n",
       "      <td>24.0</td>\n",
       "      <td>1.0</td>\n",
       "      <td>65.0</td>\n",
       "      <td>28423.0</td>\n",
       "      <td>True</td>\n",
       "    </tr>\n",
       "    <tr>\n",
       "      <th>1</th>\n",
       "      <td>7.0</td>\n",
       "      <td>1.478383e+09</td>\n",
       "      <td>542335.0</td>\n",
       "      <td>71718.0</td>\n",
       "      <td>0.0</td>\n",
       "      <td>20080215.0</td>\n",
       "      <td>0.0</td>\n",
       "      <td>0.0</td>\n",
       "      <td>150.0</td>\n",
       "      <td>0.0</td>\n",
       "      <td>1.0</td>\n",
       "      <td>1812.0</td>\n",
       "      <td>2939</td>\n",
       "      <td>24.0</td>\n",
       "      <td>1.0</td>\n",
       "      <td>65.0</td>\n",
       "      <td>28423.0</td>\n",
       "      <td>True</td>\n",
       "    </tr>\n",
       "    <tr>\n",
       "      <th>2</th>\n",
       "      <td>7.0</td>\n",
       "      <td>1.478338e+09</td>\n",
       "      <td>542335.0</td>\n",
       "      <td>71718.0</td>\n",
       "      <td>0.0</td>\n",
       "      <td>20080215.0</td>\n",
       "      <td>0.0</td>\n",
       "      <td>0.0</td>\n",
       "      <td>150.0</td>\n",
       "      <td>0.0</td>\n",
       "      <td>1.0</td>\n",
       "      <td>1812.0</td>\n",
       "      <td>2939</td>\n",
       "      <td>24.0</td>\n",
       "      <td>1.0</td>\n",
       "      <td>65.0</td>\n",
       "      <td>28423.0</td>\n",
       "      <td>True</td>\n",
       "    </tr>\n",
       "    <tr>\n",
       "      <th>3</th>\n",
       "      <td>7.0</td>\n",
       "      <td>1.479131e+09</td>\n",
       "      <td>542335.0</td>\n",
       "      <td>71718.0</td>\n",
       "      <td>0.0</td>\n",
       "      <td>20080215.0</td>\n",
       "      <td>0.0</td>\n",
       "      <td>0.0</td>\n",
       "      <td>150.0</td>\n",
       "      <td>0.0</td>\n",
       "      <td>1.0</td>\n",
       "      <td>1812.0</td>\n",
       "      <td>2939</td>\n",
       "      <td>24.0</td>\n",
       "      <td>1.0</td>\n",
       "      <td>65.0</td>\n",
       "      <td>28423.0</td>\n",
       "      <td>True</td>\n",
       "    </tr>\n",
       "    <tr>\n",
       "      <th>4</th>\n",
       "      <td>7.0</td>\n",
       "      <td>1.479279e+09</td>\n",
       "      <td>542335.0</td>\n",
       "      <td>71718.0</td>\n",
       "      <td>0.0</td>\n",
       "      <td>20080215.0</td>\n",
       "      <td>0.0</td>\n",
       "      <td>0.0</td>\n",
       "      <td>150.0</td>\n",
       "      <td>0.0</td>\n",
       "      <td>1.0</td>\n",
       "      <td>1812.0</td>\n",
       "      <td>2939</td>\n",
       "      <td>24.0</td>\n",
       "      <td>1.0</td>\n",
       "      <td>65.0</td>\n",
       "      <td>28423.0</td>\n",
       "      <td>True</td>\n",
       "    </tr>\n",
       "  </tbody>\n",
       "</table>\n",
       "</div>"
      ],
      "text/plain": [
       "   genre_id     ts_listen  media_id  album_id  context_type  release_date  \\\n",
       "0       7.0  1.478369e+09  542335.0   71718.0           0.0    20080215.0   \n",
       "1       7.0  1.478383e+09  542335.0   71718.0           0.0    20080215.0   \n",
       "2       7.0  1.478338e+09  542335.0   71718.0           0.0    20080215.0   \n",
       "3       7.0  1.479131e+09  542335.0   71718.0           0.0    20080215.0   \n",
       "4       7.0  1.479279e+09  542335.0   71718.0           0.0    20080215.0   \n",
       "\n",
       "   platform_name  platform_family  media_duration  listen_type  user_gender  \\\n",
       "0            0.0              0.0           150.0          0.0          1.0   \n",
       "1            0.0              0.0           150.0          0.0          1.0   \n",
       "2            0.0              0.0           150.0          0.0          1.0   \n",
       "3            0.0              0.0           150.0          0.0          1.0   \n",
       "4            0.0              0.0           150.0          0.0          1.0   \n",
       "\n",
       "   user_id  artist_id  user_age  is_listened  artist_albuns  artist_fans  \\\n",
       "0   1812.0       2939      24.0          1.0           65.0      28423.0   \n",
       "1   1812.0       2939      24.0          1.0           65.0      28423.0   \n",
       "2   1812.0       2939      24.0          1.0           65.0      28423.0   \n",
       "3   1812.0       2939      24.0          1.0           65.0      28423.0   \n",
       "4   1812.0       2939      24.0          1.0           65.0      28423.0   \n",
       "\n",
       "  artist_radio  \n",
       "0         True  \n",
       "1         True  \n",
       "2         True  \n",
       "3         True  \n",
       "4         True  "
      ]
     },
     "execution_count": 44,
     "metadata": {},
     "output_type": "execute_result"
    }
   ],
   "source": [
    "train = pd.merge(train, artists, how=\"outer\", on=\"artist_id\")\n",
    "train.head()"
   ]
  },
  {
   "cell_type": "code",
   "execution_count": null,
   "metadata": {
    "collapsed": true
   },
   "outputs": [],
   "source": []
  }
 ],
 "metadata": {
  "kernelspec": {
   "display_name": "Python 3",
   "language": "python",
   "name": "python3"
  },
  "language_info": {
   "codemirror_mode": {
    "name": "ipython",
    "version": 3
   },
   "file_extension": ".py",
   "mimetype": "text/x-python",
   "name": "python",
   "nbconvert_exporter": "python",
   "pygments_lexer": "ipython3",
   "version": "3.6.2"
  }
 },
 "nbformat": 4,
 "nbformat_minor": 2
}
